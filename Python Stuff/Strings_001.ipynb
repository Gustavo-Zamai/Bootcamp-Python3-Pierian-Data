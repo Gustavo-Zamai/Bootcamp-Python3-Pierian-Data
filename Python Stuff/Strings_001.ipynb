{
 "cells": [
  {
   "cell_type": "markdown",
   "id": "3613eb8d",
   "metadata": {},
   "source": [
    "Immutability"
   ]
  },
  {
   "cell_type": "code",
   "execution_count": 1,
   "id": "07fd5fb0",
   "metadata": {},
   "outputs": [],
   "source": [
    "sleep = 'ZzZz'"
   ]
  },
  {
   "cell_type": "code",
   "execution_count": 2,
   "id": "7081a6aa",
   "metadata": {},
   "outputs": [
    {
     "data": {
      "text/plain": [
       "'ZzZzZzZzZzZzZzZzZzZzZzZzZzZzZzZzZzZzZzZzZzZzZzZzZzZzZzZzZzZz'"
      ]
     },
     "execution_count": 2,
     "metadata": {},
     "output_type": "execute_result"
    }
   ],
   "source": [
    "sleep * 15"
   ]
  },
  {
   "cell_type": "code",
   "execution_count": 3,
   "id": "b31201fb",
   "metadata": {},
   "outputs": [
    {
     "data": {
      "text/plain": [
       "<function str.upper()>"
      ]
     },
     "execution_count": 3,
     "metadata": {},
     "output_type": "execute_result"
    }
   ],
   "source": [
    "sleep.upper"
   ]
  },
  {
   "cell_type": "code",
   "execution_count": 4,
   "id": "9f769b01",
   "metadata": {},
   "outputs": [
    {
     "data": {
      "text/plain": [
       "['Z', 'Z', '']"
      ]
     },
     "execution_count": 4,
     "metadata": {},
     "output_type": "execute_result"
    }
   ],
   "source": [
    "sleep.split('z')"
   ]
  },
  {
   "cell_type": "code",
   "execution_count": 5,
   "id": "3d5e78e3",
   "metadata": {},
   "outputs": [
    {
     "data": {
      "text/plain": [
       "'zZzZ'"
      ]
     },
     "execution_count": 5,
     "metadata": {},
     "output_type": "execute_result"
    }
   ],
   "source": [
    "sleep[::-1]"
   ]
  },
  {
   "cell_type": "code",
   "execution_count": 6,
   "id": "d0fa60b5",
   "metadata": {},
   "outputs": [
    {
     "name": "stdout",
     "output_type": "stream",
     "text": [
      "ZzZz\n"
     ]
    }
   ],
   "source": [
    "print(sleep)"
   ]
  },
  {
   "cell_type": "markdown",
   "id": "af6b5bf1",
   "metadata": {},
   "source": [
    ".Format{}"
   ]
  },
  {
   "cell_type": "code",
   "execution_count": 8,
   "id": "32ea65d7",
   "metadata": {},
   "outputs": [
    {
     "name": "stdout",
     "output_type": "stream",
     "text": [
      "The quick brown fox\n"
     ]
    }
   ],
   "source": [
    "print('The {q} {b} {f}' .format(f='fox', b='brown', q='quick'))"
   ]
  },
  {
   "cell_type": "code",
   "execution_count": 9,
   "id": "52020470",
   "metadata": {},
   "outputs": [],
   "source": [
    "f = 'format'\n",
    "b = 'brown'\n",
    "q = 'quick'"
   ]
  },
  {
   "cell_type": "code",
   "execution_count": 10,
   "id": "af96349d",
   "metadata": {},
   "outputs": [
    {
     "name": "stdout",
     "output_type": "stream",
     "text": [
      "The quick brown format\n"
     ]
    }
   ],
   "source": [
    "print(f'The {q} {b} {f}')"
   ]
  },
  {
   "cell_type": "markdown",
   "id": "9dbf6169",
   "metadata": {},
   "source": [
    "Lists"
   ]
  },
  {
   "cell_type": "code",
   "execution_count": 11,
   "id": "c51c339a",
   "metadata": {},
   "outputs": [],
   "source": [
    "animals = ['bird', 'elephant', 'dog', 'cat']"
   ]
  },
  {
   "cell_type": "code",
   "execution_count": 12,
   "id": "213cbc40",
   "metadata": {},
   "outputs": [
    {
     "name": "stdout",
     "output_type": "stream",
     "text": [
      "['bird', 'elephant', 'dog', 'cat']\n"
     ]
    }
   ],
   "source": [
    "print(animals)"
   ]
  },
  {
   "cell_type": "code",
   "execution_count": 13,
   "id": "41d2be9e",
   "metadata": {},
   "outputs": [
    {
     "data": {
      "text/plain": [
       "list"
      ]
     },
     "execution_count": 13,
     "metadata": {},
     "output_type": "execute_result"
    }
   ],
   "source": [
    "type(animals)"
   ]
  },
  {
   "cell_type": "code",
   "execution_count": 39,
   "id": "b9878a63",
   "metadata": {},
   "outputs": [
    {
     "data": {
      "text/plain": [
       "['snake', 'elephant', 'dog', 'cat', 'bird', 'albatroz']"
      ]
     },
     "execution_count": 39,
     "metadata": {},
     "output_type": "execute_result"
    }
   ],
   "source": [
    "animals"
   ]
  },
  {
   "cell_type": "code",
   "execution_count": 15,
   "id": "38a923f1",
   "metadata": {},
   "outputs": [],
   "source": [
    "animals.sort()"
   ]
  },
  {
   "cell_type": "code",
   "execution_count": 16,
   "id": "67955b25",
   "metadata": {},
   "outputs": [
    {
     "name": "stdout",
     "output_type": "stream",
     "text": [
      "['bird', 'cat', 'dog', 'elephant']\n"
     ]
    }
   ],
   "source": [
    "print(animals)"
   ]
  },
  {
   "cell_type": "code",
   "execution_count": 18,
   "id": "b8f53fc9",
   "metadata": {},
   "outputs": [],
   "source": [
    "animals.reverse()"
   ]
  },
  {
   "cell_type": "code",
   "execution_count": 19,
   "id": "de9f1e1c",
   "metadata": {},
   "outputs": [
    {
     "name": "stdout",
     "output_type": "stream",
     "text": [
      "['bird', 'cat', 'dog', 'elephant']\n"
     ]
    }
   ],
   "source": [
    "print(animals)"
   ]
  },
  {
   "cell_type": "code",
   "execution_count": 21,
   "id": "08da44fd",
   "metadata": {},
   "outputs": [],
   "source": [
    "animals.append('snake')"
   ]
  },
  {
   "cell_type": "code",
   "execution_count": 22,
   "id": "87a55711",
   "metadata": {},
   "outputs": [
    {
     "name": "stdout",
     "output_type": "stream",
     "text": [
      "['bird', 'cat', 'dog', 'elephant', 'snake']\n"
     ]
    }
   ],
   "source": [
    "print(animals)"
   ]
  },
  {
   "cell_type": "code",
   "execution_count": 23,
   "id": "ecc0ab95",
   "metadata": {},
   "outputs": [],
   "source": [
    "animals.sort()"
   ]
  },
  {
   "cell_type": "code",
   "execution_count": 24,
   "id": "0ab47be1",
   "metadata": {},
   "outputs": [
    {
     "name": "stdout",
     "output_type": "stream",
     "text": [
      "['bird', 'cat', 'dog', 'elephant', 'snake']\n"
     ]
    }
   ],
   "source": [
    "print(animals)"
   ]
  },
  {
   "cell_type": "code",
   "execution_count": 25,
   "id": "d3a2f7b9",
   "metadata": {},
   "outputs": [],
   "source": [
    "animals.append('albatroz')"
   ]
  },
  {
   "cell_type": "code",
   "execution_count": 26,
   "id": "752b54fd",
   "metadata": {},
   "outputs": [
    {
     "name": "stdout",
     "output_type": "stream",
     "text": [
      "['bird', 'cat', 'dog', 'elephant', 'snake', 'albatroz']\n"
     ]
    }
   ],
   "source": [
    "print(animals)"
   ]
  },
  {
   "cell_type": "code",
   "execution_count": 27,
   "id": "edb32b84",
   "metadata": {},
   "outputs": [],
   "source": [
    "animals.sort()"
   ]
  },
  {
   "cell_type": "code",
   "execution_count": 28,
   "id": "74fa8eba",
   "metadata": {},
   "outputs": [
    {
     "name": "stdout",
     "output_type": "stream",
     "text": [
      "['albatroz', 'bird', 'cat', 'dog', 'elephant', 'snake']\n"
     ]
    }
   ],
   "source": [
    "print(animals)"
   ]
  },
  {
   "cell_type": "code",
   "execution_count": 30,
   "id": "3ac39372",
   "metadata": {},
   "outputs": [],
   "source": [
    "animals.reverse()"
   ]
  },
  {
   "cell_type": "code",
   "execution_count": 31,
   "id": "ea983293",
   "metadata": {},
   "outputs": [
    {
     "name": "stdout",
     "output_type": "stream",
     "text": [
      "['snake', 'elephant', 'dog', 'cat', 'bird', 'albatroz']\n"
     ]
    }
   ],
   "source": [
    "print(animals)"
   ]
  },
  {
   "cell_type": "code",
   "execution_count": 32,
   "id": "4ed073a8",
   "metadata": {},
   "outputs": [],
   "source": [
    "my_list = [1,2,3,4,5,6,7,8,9,0]"
   ]
  },
  {
   "cell_type": "code",
   "execution_count": 33,
   "id": "0fdf0c04",
   "metadata": {},
   "outputs": [
    {
     "name": "stdout",
     "output_type": "stream",
     "text": [
      "[1, 2, 3, 4, 5, 6, 7, 8, 9, 0]\n"
     ]
    }
   ],
   "source": [
    "print(my_list)"
   ]
  },
  {
   "cell_type": "code",
   "execution_count": 34,
   "id": "15f0777c",
   "metadata": {},
   "outputs": [
    {
     "data": {
      "text/plain": [
       "'snake'"
      ]
     },
     "execution_count": 34,
     "metadata": {},
     "output_type": "execute_result"
    }
   ],
   "source": [
    "animals[0]"
   ]
  },
  {
   "cell_type": "code",
   "execution_count": 35,
   "id": "ccddf783",
   "metadata": {},
   "outputs": [
    {
     "data": {
      "text/plain": [
       "['snake', 'elephant', 'dog', 'cat']"
      ]
     },
     "execution_count": 35,
     "metadata": {},
     "output_type": "execute_result"
    }
   ],
   "source": [
    "animals[0:4]"
   ]
  },
  {
   "cell_type": "code",
   "execution_count": 38,
   "id": "3ebaa5f8",
   "metadata": {},
   "outputs": [
    {
     "data": {
      "text/plain": [
       "['albatroz', 'bird', 'cat', 'dog', 'elephant', 'snake']"
      ]
     },
     "execution_count": 38,
     "metadata": {},
     "output_type": "execute_result"
    }
   ],
   "source": [
    "animals[::-1]"
   ]
  },
  {
   "cell_type": "code",
   "execution_count": 40,
   "id": "22a72645",
   "metadata": {},
   "outputs": [
    {
     "data": {
      "text/plain": [
       "['snake',\n",
       " 'elephant',\n",
       " 'dog',\n",
       " 'cat',\n",
       " 'bird',\n",
       " 'albatroz',\n",
       " 1,\n",
       " 2,\n",
       " 3,\n",
       " 4,\n",
       " 5,\n",
       " 6,\n",
       " 7,\n",
       " 8,\n",
       " 9,\n",
       " 0]"
      ]
     },
     "execution_count": 40,
     "metadata": {},
     "output_type": "execute_result"
    }
   ],
   "source": [
    "animals + my_list"
   ]
  },
  {
   "cell_type": "code",
   "execution_count": 41,
   "id": "386cb070",
   "metadata": {},
   "outputs": [],
   "source": [
    "new_list = animals + my_list"
   ]
  },
  {
   "cell_type": "code",
   "execution_count": 42,
   "id": "3a7d4eb9",
   "metadata": {},
   "outputs": [
    {
     "name": "stdout",
     "output_type": "stream",
     "text": [
      "['snake', 'elephant', 'dog', 'cat', 'bird', 'albatroz', 1, 2, 3, 4, 5, 6, 7, 8, 9, 0]\n"
     ]
    }
   ],
   "source": [
    "print(new_list)"
   ]
  },
  {
   "cell_type": "code",
   "execution_count": 43,
   "id": "b1c49fb1",
   "metadata": {},
   "outputs": [
    {
     "data": {
      "text/plain": [
       "[0,\n",
       " 9,\n",
       " 8,\n",
       " 7,\n",
       " 6,\n",
       " 5,\n",
       " 4,\n",
       " 3,\n",
       " 2,\n",
       " 1,\n",
       " 'albatroz',\n",
       " 'bird',\n",
       " 'cat',\n",
       " 'dog',\n",
       " 'elephant',\n",
       " 'snake']"
      ]
     },
     "execution_count": 43,
     "metadata": {},
     "output_type": "execute_result"
    }
   ],
   "source": [
    "new_list[::-1]"
   ]
  },
  {
   "cell_type": "code",
   "execution_count": 44,
   "id": "70757b22",
   "metadata": {},
   "outputs": [
    {
     "name": "stdout",
     "output_type": "stream",
     "text": [
      "['snake', 'elephant', 'dog', 'cat', 'bird', 'albatroz', 1, 2, 3, 4, 5, 6, 7, 8, 9, 0]\n"
     ]
    }
   ],
   "source": [
    "print(new_list)"
   ]
  },
  {
   "cell_type": "code",
   "execution_count": 45,
   "id": "28589a52",
   "metadata": {},
   "outputs": [
    {
     "name": "stdout",
     "output_type": "stream",
     "text": [
      "['snake', 'elephant', 'dog', 'cat', 'bird', 'albatroz']\n"
     ]
    }
   ],
   "source": [
    "print(animals)"
   ]
  },
  {
   "cell_type": "code",
   "execution_count": 46,
   "id": "bb67ea95",
   "metadata": {},
   "outputs": [
    {
     "name": "stdout",
     "output_type": "stream",
     "text": [
      "[1, 2, 3, 4, 5, 6, 7, 8, 9, 0]\n"
     ]
    }
   ],
   "source": [
    "print(my_list)"
   ]
  },
  {
   "cell_type": "code",
   "execution_count": 47,
   "id": "fd073809",
   "metadata": {},
   "outputs": [
    {
     "name": "stdout",
     "output_type": "stream",
     "text": [
      "['snake', 'elephant', 'dog', 'cat', 'bird', 'albatroz', 1, 2, 3, 4, 5, 6, 7, 8, 9, 0]\n"
     ]
    }
   ],
   "source": [
    "print(new_list)"
   ]
  },
  {
   "cell_type": "code",
   "execution_count": 49,
   "id": "e5a0cf87",
   "metadata": {},
   "outputs": [
    {
     "data": {
      "text/plain": [
       "1"
      ]
     },
     "execution_count": 49,
     "metadata": {},
     "output_type": "execute_result"
    }
   ],
   "source": [
    "new_list.pop(6)"
   ]
  },
  {
   "cell_type": "code",
   "execution_count": 50,
   "id": "4a5bb21e",
   "metadata": {},
   "outputs": [
    {
     "name": "stdout",
     "output_type": "stream",
     "text": [
      "['snake', 'elephant', 'dog', 'cat', 'bird', 'albatroz', 2, 3, 4, 5, 6, 7, 8, 9, 0]\n"
     ]
    }
   ],
   "source": [
    "print(new_list)"
   ]
  },
  {
   "cell_type": "code",
   "execution_count": 51,
   "id": "3aa31adc",
   "metadata": {},
   "outputs": [
    {
     "data": {
      "text/plain": [
       "['snake', 'elephant', 'dog', 'cat', 'bird']"
      ]
     },
     "execution_count": 51,
     "metadata": {},
     "output_type": "execute_result"
    }
   ],
   "source": [
    "new_list[:5]"
   ]
  },
  {
   "cell_type": "code",
   "execution_count": 52,
   "id": "07d5c939",
   "metadata": {},
   "outputs": [
    {
     "data": {
      "text/plain": [
       "['elephant', 'dog', 'cat', 'bird', 'albatroz', 2, 3, 4, 5, 6, 7]"
      ]
     },
     "execution_count": 52,
     "metadata": {},
     "output_type": "execute_result"
    }
   ],
   "source": [
    "new_list[1:12]"
   ]
  },
  {
   "cell_type": "code",
   "execution_count": null,
   "id": "8c4ded14",
   "metadata": {},
   "outputs": [],
   "source": []
  }
 ],
 "metadata": {
  "kernelspec": {
   "display_name": "Python 3 (ipykernel)",
   "language": "python",
   "name": "python3"
  },
  "language_info": {
   "codemirror_mode": {
    "name": "ipython",
    "version": 3
   },
   "file_extension": ".py",
   "mimetype": "text/x-python",
   "name": "python",
   "nbconvert_exporter": "python",
   "pygments_lexer": "ipython3",
   "version": "3.9.12"
  }
 },
 "nbformat": 4,
 "nbformat_minor": 5
}
