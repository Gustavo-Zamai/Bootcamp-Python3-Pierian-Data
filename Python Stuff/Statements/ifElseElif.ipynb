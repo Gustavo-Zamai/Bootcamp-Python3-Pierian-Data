{
 "cells": [
  {
   "cell_type": "code",
   "execution_count": null,
   "metadata": {},
   "outputs": [],
   "source": []
  }
 ],
 "metadata": {
  "kernelspec": {
   "display_name": "Python 3.9.11 64-bit",
   "language": "python",
   "name": "python3"
  },
  "language_info": {
   "name": "python",
   "version": "3.9.11"
  },
  "orig_nbformat": 4,
  "vscode": {
   "interpreter": {
    "hash": "9c548809a1003e63355293d152cfdbb3432175ad9e515f32189ecaf0f6b54ec8"
   }
  }
 },
 "nbformat": 4,
 "nbformat_minor": 2
}
