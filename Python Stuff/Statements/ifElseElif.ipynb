{
 "cells": [
  {
   "cell_type": "markdown",
   "metadata": {},
   "source": [
    "If, Else and Elif"
   ]
  },
  {
   "cell_type": "code",
   "execution_count": 14,
   "metadata": {},
   "outputs": [
    {
     "name": "stdout",
     "output_type": "stream",
     "text": [
      "Was in if\n"
     ]
    }
   ],
   "source": [
    "if (1 == 1):\n",
    "    print('Was in if')\n",
    "elif(1 < 8):\n",
    "    print('Was in elif')\n",
    "else:\n",
    "    print('Was in else')\n"
   ]
  },
  {
   "cell_type": "code",
   "execution_count": 6,
   "metadata": {},
   "outputs": [
    {
     "name": "stdout",
     "output_type": "stream",
     "text": [
      "Was in else\n"
     ]
    }
   ],
   "source": [
    "if (1 != 1):\n",
    "    print('Was in if')\n",
    "elif(1 > 8):\n",
    "    print('Was in elif')\n",
    "else:\n",
    "    print('Was in else')"
   ]
  },
  {
   "cell_type": "code",
   "execution_count": 8,
   "metadata": {},
   "outputs": [
    {
     "name": "stdout",
     "output_type": "stream",
     "text": [
      "Was in elif\n"
     ]
    }
   ],
   "source": [
    "if 1 != 1:\n",
    "    print('Was in if')\n",
    "elif 8 > 5:\n",
    "    print('Was in elif')\n",
    "else:\n",
    "    print('Was in else')"
   ]
  },
  {
   "cell_type": "code",
   "execution_count": 12,
   "metadata": {},
   "outputs": [
    {
     "name": "stdout",
     "output_type": "stream",
     "text": [
      "Hello world\n"
     ]
    }
   ],
   "source": [
    "if('name' == 'name'):\n",
    "    print('Hello world')\n",
    "else:\n",
    "    print('Praise the sun')"
   ]
  },
  {
   "cell_type": "code",
   "execution_count": 15,
   "metadata": {},
   "outputs": [
    {
     "name": "stdout",
     "output_type": "stream",
     "text": [
      "Praise the sun\n"
     ]
    }
   ],
   "source": [
    "if 'name' != 'name':\n",
    "    print('Hello world')\n",
    "else:\n",
    "    print('Praise the sun')"
   ]
  },
  {
   "cell_type": "code",
   "execution_count": 21,
   "metadata": {},
   "outputs": [
    {
     "name": "stdout",
     "output_type": "stream",
     "text": [
      "Hello Gus\n"
     ]
    }
   ],
   "source": [
    "name = 'Gus'\n",
    "\n",
    "if name == 'Sam':\n",
    "    print('Hello Sam')\n",
    "elif name == 'Gus':\n",
    "    print('Hello Gus')\n",
    "elif name == 'Bia':\n",
    "    print('Hello Bia')\n",
    "else:\n",
    "    print('Nobodys home :(')"
   ]
  }
 ],
 "metadata": {
  "kernelspec": {
   "display_name": "Python 3.9.11 64-bit",
   "language": "python",
   "name": "python3"
  },
  "language_info": {
   "codemirror_mode": {
    "name": "ipython",
    "version": 3
   },
   "file_extension": ".py",
   "mimetype": "text/x-python",
   "name": "python",
   "nbconvert_exporter": "python",
   "pygments_lexer": "ipython3",
   "version": "3.9.11"
  },
  "orig_nbformat": 4,
  "vscode": {
   "interpreter": {
    "hash": "9c548809a1003e63355293d152cfdbb3432175ad9e515f32189ecaf0f6b54ec8"
   }
  }
 },
 "nbformat": 4,
 "nbformat_minor": 2
}
