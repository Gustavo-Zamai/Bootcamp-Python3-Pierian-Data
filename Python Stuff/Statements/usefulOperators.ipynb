{
 "cells": [
  {
   "cell_type": "markdown",
   "metadata": {},
   "source": [
    "Useful Operators<br>\n",
    "Range<br>\n",
    "Enumerate<br>"
   ]
  },
  {
   "cell_type": "code",
   "execution_count": 2,
   "metadata": {},
   "outputs": [
    {
     "name": "stdout",
     "output_type": "stream",
     "text": [
      "[0, 1, 2, 3, 4, 5, 6, 7, 8, 9]\n"
     ]
    }
   ],
   "source": [
    "num_list = [0,1,2,3,4,5,6,7,8,9]\n",
    "print(num_list)"
   ]
  },
  {
   "cell_type": "code",
   "execution_count": 6,
   "metadata": {},
   "outputs": [
    {
     "name": "stdout",
     "output_type": "stream",
     "text": [
      "5\n",
      "7\n",
      "9\n",
      "11\n",
      "13\n",
      "15\n",
      "17\n",
      "19\n",
      "21\n",
      "23\n",
      "25\n"
     ]
    }
   ],
   "source": [
    "for num in range(5, 26, 2):\n",
    "    print(num)"
   ]
  },
  {
   "cell_type": "code",
   "execution_count": 9,
   "metadata": {},
   "outputs": [
    {
     "data": {
      "text/plain": [
       "[5, 7, 9, 11, 13, 15, 17, 19, 21, 23, 25]"
      ]
     },
     "execution_count": 9,
     "metadata": {},
     "output_type": "execute_result"
    }
   ],
   "source": [
    "list(range(5,26,2))"
   ]
  },
  {
   "cell_type": "code",
   "execution_count": 16,
   "metadata": {},
   "outputs": [
    {
     "name": "stdout",
     "output_type": "stream",
     "text": [
      "At the index 0 the number is 1\n",
      "At the index 1 the number is 2\n",
      "At the index 2 the number is 3\n",
      "At the index 3 the number is 4\n",
      "At the index 4 the number is 5\n",
      "At the index 5 the number is 6\n",
      "At the index 6 the number is 7\n",
      "At the index 7 the number is 8\n",
      "At the index 8 the number is 9\n"
     ]
    }
   ],
   "source": [
    "index_count = 0\n",
    "for number in '123456789':\n",
    "    print(f'At the index {index_count} the number is {number}')\n",
    "    #print('At the index {} the number is {}'.format(index_count,number))\n",
    "    index_count += 1"
   ]
  },
  {
   "cell_type": "code",
   "execution_count": 24,
   "metadata": {},
   "outputs": [
    {
     "name": "stdout",
     "output_type": "stream",
     "text": [
      "0:A\n",
      "\n",
      "1:r\n",
      "\n",
      "2:i\n",
      "\n",
      "3:e\n",
      "\n",
      "4:n\n",
      "\n",
      "5:d\n",
      "\n",
      "6:e\n",
      "\n",
      "7:l\n",
      "\n"
     ]
    }
   ],
   "source": [
    "word = 'Ariendel'\n",
    "\n",
    "for index,letter in enumerate(word):\n",
    "    print(str(index)+':'+letter+'\\n')#print all togheter"
   ]
  },
  {
   "cell_type": "code",
   "execution_count": 26,
   "metadata": {},
   "outputs": [
    {
     "name": "stdout",
     "output_type": "stream",
     "text": [
      "0\n",
      "A\n",
      "\n",
      "\n",
      "1\n",
      "r\n",
      "\n",
      "\n",
      "2\n",
      "i\n",
      "\n",
      "\n",
      "3\n",
      "e\n",
      "\n",
      "\n",
      "4\n",
      "n\n",
      "\n",
      "\n",
      "5\n",
      "d\n",
      "\n",
      "\n",
      "6\n",
      "e\n",
      "\n",
      "\n",
      "7\n",
      "l\n",
      "\n",
      "\n"
     ]
    }
   ],
   "source": [
    "#print index and letter separated\n",
    "for index,letter in enumerate(word):\n",
    "    print(index)\n",
    "    print(letter)\n",
    "    print('\\n')#optional"
   ]
  },
  {
   "cell_type": "code",
   "execution_count": null,
   "metadata": {},
   "outputs": [],
   "source": []
  }
 ],
 "metadata": {
  "kernelspec": {
   "display_name": "Python 3.9.11 64-bit",
   "language": "python",
   "name": "python3"
  },
  "language_info": {
   "codemirror_mode": {
    "name": "ipython",
    "version": 3
   },
   "file_extension": ".py",
   "mimetype": "text/x-python",
   "name": "python",
   "nbconvert_exporter": "python",
   "pygments_lexer": "ipython3",
   "version": "3.9.11"
  },
  "orig_nbformat": 4,
  "vscode": {
   "interpreter": {
    "hash": "9c548809a1003e63355293d152cfdbb3432175ad9e515f32189ecaf0f6b54ec8"
   }
  }
 },
 "nbformat": 4,
 "nbformat_minor": 2
}
