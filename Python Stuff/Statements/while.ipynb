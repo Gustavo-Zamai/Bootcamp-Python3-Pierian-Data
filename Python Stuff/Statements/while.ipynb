{
 "cells": [
  {
   "cell_type": "markdown",
   "metadata": {},
   "source": [
    "While Loops\n"
   ]
  },
  {
   "cell_type": "code",
   "execution_count": 19,
   "metadata": {},
   "outputs": [
    {
     "name": "stdout",
     "output_type": "stream",
     "text": [
      "Valeu of b is: 2\n",
      "Valeu of b is: 4\n",
      "Valeu of b is: 6\n",
      "Valeu of b is: 8\n",
      "Valeu of b is: 10\n",
      "Now b is greater than a!\n"
     ]
    }
   ],
   "source": [
    "a = 10\n",
    "b = 2\n",
    "\n",
    "while a >= b:\n",
    "    print(f'Valeu of b is: {b}')\n",
    "    #b = b + 3\n",
    "    b += 2\n",
    "else:\n",
    "    print('Now b is greater than a!')\n",
    "\n"
   ]
  },
  {
   "cell_type": "markdown",
   "metadata": {},
   "source": [
    "Using: Break, Continue and Pass.<br>\n",
    "    <b>Break:</b> Quebra o looping quando passa por ele, interronpendo o código.<br>\n",
    "    <b>Continue:</b> Quebra o looping, voltando ao topo até a condição não ser verdadeira.<br>\n",
    "    <b>Pass:</b> Serve como um placeholder, para segurar a função sem dar erro no código."
   ]
  },
  {
   "cell_type": "code",
   "execution_count": 22,
   "metadata": {},
   "outputs": [
    {
     "name": "stdout",
     "output_type": "stream",
     "text": [
      "pass DOES NOT AT ALL!!!\n"
     ]
    }
   ],
   "source": [
    "first_list = [1,2,3,4,5,6]\n",
    "\n",
    "for num in first_list:\n",
    "    #quase um placeholder, holder para um função\n",
    "    #passa pelo for sem erro\n",
    "    pass\n",
    "print('pass DOES NOT AT ALL!!!')"
   ]
  },
  {
   "cell_type": "code",
   "execution_count": 26,
   "metadata": {},
   "outputs": [
    {
     "name": "stdout",
     "output_type": "stream",
     "text": [
      "N\n",
      "i\n",
      "r\n",
      "v\n",
      "n\n"
     ]
    }
   ],
   "source": [
    "band = 'Nirvana'\n",
    "\n",
    "for letter in band:\n",
    "    if letter == 'a':\n",
    "        continue #ignora o que for igual a condição, retornando ao topo\n",
    "    print(letter)\n",
    "#print(letter)\n"
   ]
  },
  {
   "cell_type": "code",
   "execution_count": 28,
   "metadata": {},
   "outputs": [
    {
     "name": "stdout",
     "output_type": "stream",
     "text": [
      "M\n",
      "e\n",
      "t\n",
      "t\n",
      "a\n"
     ]
    }
   ],
   "source": [
    "band = 'Mettalica'\n",
    "\n",
    "for letter in band:\n",
    "    if letter == 'l':\n",
    "        break #ignora o que for igual a condição, interrompendo o código\n",
    "    print(letter)"
   ]
  },
  {
   "cell_type": "code",
   "execution_count": 32,
   "metadata": {},
   "outputs": [
    {
     "name": "stdout",
     "output_type": "stream",
     "text": [
      "0\n",
      "1\n",
      "2\n"
     ]
    }
   ],
   "source": [
    "i = 0\n",
    "\n",
    "while i < 10:\n",
    "    if i == 3:\n",
    "        break #ignora o que for igual a condição, interrompendo o código\n",
    "    print(i)\n",
    "    i += 1"
   ]
  }
 ],
 "metadata": {
  "kernelspec": {
   "display_name": "Python 3.9.11 64-bit",
   "language": "python",
   "name": "python3"
  },
  "language_info": {
   "name": "python",
   "version": "3.9.11"
  },
  "orig_nbformat": 4,
  "vscode": {
   "interpreter": {
    "hash": "9c548809a1003e63355293d152cfdbb3432175ad9e515f32189ecaf0f6b54ec8"
   }
  }
 },
 "nbformat": 4,
 "nbformat_minor": 2
}
